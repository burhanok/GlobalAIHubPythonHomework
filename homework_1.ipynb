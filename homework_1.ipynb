{
  "nbformat": 4,
  "nbformat_minor": 0,
  "metadata": {
    "colab": {
      "name": "homework_1.ipynb",
      "private_outputs": true,
      "provenance": [],
      "collapsed_sections": [],
      "authorship_tag": "ABX9TyNQ0GdChI8C9lV2Y95jXLIN",
      "include_colab_link": true
    },
    "kernelspec": {
      "name": "python3",
      "display_name": "Python 3"
    }
  },
  "cells": [
    {
      "cell_type": "markdown",
      "metadata": {
        "id": "view-in-github",
        "colab_type": "text"
      },
      "source": [
        "<a href=\"https://colab.research.google.com/github/burhanok/GlobalAIHubPythonHomework/blob/main/homework_1.ipynb\" target=\"_parent\"><img src=\"https://colab.research.google.com/assets/colab-badge.svg\" alt=\"Open In Colab\"/></a>"
      ]
    },
    {
      "cell_type": "code",
      "metadata": {
        "id": "bPPBqHMbQhMh"
      },
      "source": [
        "name = input(\"Enter name : \")\r\n",
        "lastname = input(\"Enter lastname : \")\r\n",
        "age = int(input(\"Enter age : \"))\r\n",
        "job = input(\"Enter job : \")\r\n",
        "salary = float(input(\"Enter salary :\"))"
      ],
      "execution_count": null,
      "outputs": []
    },
    {
      "cell_type": "code",
      "metadata": {
        "id": "NOaYFoH7VjT2"
      },
      "source": [
        "print(f\"Name : {name} {lastname} \\nAge : {age} \\nJob : {job} \\nSalary : {salary}\")"
      ],
      "execution_count": null,
      "outputs": []
    },
    {
      "cell_type": "code",
      "metadata": {
        "id": "VKGXC3FyUHH1"
      },
      "source": [
        "print(\"Name type : {} \\nLastname type : {} \\nAge type : {} \\nJob type : {} \\nSalary type : {}\".format(type(name), type(lastname), type(age), type(job), type(salary)))"
      ],
      "execution_count": null,
      "outputs": []
    }
  ]
}