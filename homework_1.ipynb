{
  "nbformat": 4,
  "nbformat_minor": 0,
  "metadata": {
    "colab": {
      "name": "homework_1.ipynb",
      "private_outputs": true,
      "provenance": [],
      "collapsed_sections": [],
      "authorship_tag": "ABX9TyOT3y/HdKxOXKO4xLcx4a7U",
      "include_colab_link": true
    },
    "kernelspec": {
      "name": "python3",
      "display_name": "Python 3"
    }
  },
  "cells": [
    {
      "cell_type": "markdown",
      "metadata": {
        "id": "view-in-github",
        "colab_type": "text"
      },
      "source": [
        "<a href=\"https://colab.research.google.com/github/burhanok/GlobalAIHubPythonHomework/blob/main/homework_1.ipynb\" target=\"_parent\"><img src=\"https://colab.research.google.com/assets/colab-badge.svg\" alt=\"Open In Colab\"/></a>"
      ]
    },
    {
      "cell_type": "markdown",
      "metadata": {
        "id": "RmEgEOlsW-kA"
      },
      "source": [
        "## **Get 5 values from user**"
      ]
    },
    {
      "cell_type": "code",
      "metadata": {
        "id": "UIYwnW5LSzXX"
      },
      "source": [
        "my_list = list()"
      ],
      "execution_count": null,
      "outputs": []
    },
    {
      "cell_type": "code",
      "metadata": {
        "id": "bPPBqHMbQhMh"
      },
      "source": [
        "name = input(\"Enter name : \")\r\n",
        "my_list.append(name)\r\n",
        "\r\n",
        "lastname = input(\"Enter lastname : \")\r\n",
        "my_list.append(lastname)\r\n",
        "\r\n",
        "age = int(input(\"Enter age : \"))\r\n",
        "my_list.append(age)\r\n",
        "\r\n",
        "job = input(\"Enter job : \")\r\n",
        "my_list.append(job)\r\n",
        "\r\n",
        "salary = float(input(\"Enter salary :\"))\r\n",
        "my_list.append(salary)"
      ],
      "execution_count": null,
      "outputs": []
    },
    {
      "cell_type": "markdown",
      "metadata": {
        "id": "26bts_NgXGPQ"
      },
      "source": [
        "## **Print values on the screen using \"f-string\" method**"
      ]
    },
    {
      "cell_type": "code",
      "metadata": {
        "id": "NOaYFoH7VjT2"
      },
      "source": [
        "print(f\"Name : {name} {lastname} \\nAge : {age} \\nJob : {job} \\nSalary : {salary}\")"
      ],
      "execution_count": null,
      "outputs": []
    },
    {
      "cell_type": "markdown",
      "metadata": {
        "id": "DzeJpwCnXeLz"
      },
      "source": [
        "## **Print values on the screen using \"format\" method**"
      ]
    },
    {
      "cell_type": "code",
      "metadata": {
        "id": "VKGXC3FyUHH1"
      },
      "source": [
        "print(\"Name type : {} \\nLastname type : {} \\nAge type : {} \\nJob type : {} \\nSalary type : {}\".format(type(my_list[0]), type(my_list[1]), \r\n",
        "                                                                                                      type(my_list[2]), type(my_list[3]), \r\n",
        "                                                                                                      type(my_list[4])))"
      ],
      "execution_count": null,
      "outputs": []
    }
  ]
}