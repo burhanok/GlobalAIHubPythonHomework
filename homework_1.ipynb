{
  "nbformat": 4,
  "nbformat_minor": 0,
  "metadata": {
    "colab": {
      "name": "homework_1.ipynb",
      "private_outputs": true,
      "provenance": [],
      "collapsed_sections": [],
      "authorship_tag": "ABX9TyMeBVIX8M3/+atXkEAyF/8r",
      "include_colab_link": true
    },
    "kernelspec": {
      "name": "python3",
      "display_name": "Python 3"
    }
  },
  "cells": [
    {
      "cell_type": "markdown",
      "metadata": {
        "id": "view-in-github",
        "colab_type": "text"
      },
      "source": [
        "<a href=\"https://colab.research.google.com/github/burhanok/GlobalAIHubPythonHomework/blob/main/homework_1.ipynb\" target=\"_parent\"><img src=\"https://colab.research.google.com/assets/colab-badge.svg\" alt=\"Open In Colab\"/></a>"
      ]
    },
    {
      "cell_type": "code",
      "metadata": {
        "id": "UIYwnW5LSzXX"
      },
      "source": [
        "# create an empty list\r\n",
        "my_list = list()"
      ],
      "execution_count": null,
      "outputs": []
    },
    {
      "cell_type": "code",
      "metadata": {
        "id": "bPPBqHMbQhMh"
      },
      "source": [
        "# get 5 values from user using input method and add these values to the list using append method\r\n",
        "name = input(\"Enter name and lastname : \")\r\n",
        "my_list.append(name)\r\n",
        "\r\n",
        "is_married = bool(int(input(\"Please enter 1 if you are married and 0 if you are not : \")))\r\n",
        "my_list.append(is_married)\r\n",
        "\r\n",
        "age = int(input(\"Enter age : \"))\r\n",
        "my_list.append(age)\r\n",
        "\r\n",
        "job = input(\"Enter job : \")\r\n",
        "my_list.append(job)\r\n",
        "\r\n",
        "salary = float(input(\"Enter salary :\"))\r\n",
        "my_list.append(salary)"
      ],
      "execution_count": null,
      "outputs": []
    },
    {
      "cell_type": "code",
      "metadata": {
        "id": "NOaYFoH7VjT2"
      },
      "source": [
        "# print theese values on the screen using \"f-string\" method\r\n",
        "print(f\"Name : {name}\\nMarriage status: {is_married} \\nAge : {age} \\nJob : {job} \\nSalary : {salary}\")"
      ],
      "execution_count": null,
      "outputs": []
    },
    {
      "cell_type": "code",
      "metadata": {
        "id": "VKGXC3FyUHH1"
      },
      "source": [
        "# print these values on the screen using \"format\" method\r\n",
        "print(\"Name type : {} \\nLastname type : {} \\nAge type : {} \\nJob type : {} \\nSalary type : {}\".format(type(my_list[0]), type(my_list[1]), \r\n",
        "                                                                                                      type(my_list[2]), type(my_list[3]), \r\n",
        "                                                                                                      type(my_list[4])))"
      ],
      "execution_count": null,
      "outputs": []
    }
  ]
}