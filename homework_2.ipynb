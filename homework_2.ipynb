{
  "nbformat": 4,
  "nbformat_minor": 0,
  "metadata": {
    "colab": {
      "name": "homework_2.ipynb",
      "private_outputs": true,
      "provenance": [],
      "collapsed_sections": [],
      "authorship_tag": "ABX9TyOaYkvdQuU6LfvXWSBfLmMR",
      "include_colab_link": true
    },
    "kernelspec": {
      "name": "python3",
      "display_name": "Python 3"
    }
  },
  "cells": [
    {
      "cell_type": "markdown",
      "metadata": {
        "id": "view-in-github",
        "colab_type": "text"
      },
      "source": [
        "<a href=\"https://colab.research.google.com/github/burhanok/GlobalAIHubPythonHomework/blob/main/homework_2.ipynb\" target=\"_parent\"><img src=\"https://colab.research.google.com/assets/colab-badge.svg\" alt=\"Open In Colab\"/></a>"
      ]
    },
    {
      "cell_type": "code",
      "metadata": {
        "id": "Z8At6C9rTLyJ"
      },
      "source": [
        "# define user list\r\n",
        "user = list()"
      ],
      "execution_count": null,
      "outputs": []
    },
    {
      "cell_type": "code",
      "metadata": {
        "id": "n4RL2jnNTSzv"
      },
      "source": [
        "# take the user information using the input method \r\n",
        "# and this information to the list\r\n",
        "\r\n",
        "name = input(\"Please enter your name : \")\r\n",
        "user.append([\"Name\",name])\r\n",
        "\r\n",
        "lastName = input(\"Please enter your lastname : \")\r\n",
        "user.append([\"Last Name\", lastName])\r\n",
        "\r\n",
        "age = int(input(\"Please enter your age : \"))\r\n",
        "user.append([\"Age\", age])\r\n",
        "\r\n",
        "birthDay = int(input(\"Please enter your birthday : \"))\r\n",
        "user.append([\"Birthday\",birthDay])"
      ],
      "execution_count": null,
      "outputs": []
    },
    {
      "cell_type": "code",
      "metadata": {
        "id": "0Gzo3K_2UI30"
      },
      "source": [
        "# print user informations on the screen for for loop\r\n",
        "for info in user:\r\n",
        "    print(f\" {info[0]} : {info[1]} \")"
      ],
      "execution_count": null,
      "outputs": []
    },
    {
      "cell_type": "code",
      "metadata": {
        "id": "xqU8OjlIXPbC"
      },
      "source": [
        "# check the user age.\r\n",
        "for info in user:\r\n",
        "    if info[0] == \"Age\" or info[0] == \"age\":\r\n",
        "        if info[1] < 18:\r\n",
        "            print(\"You can't go out because it's too dangerous\")\r\n",
        "        else:\r\n",
        "            print(\"You can go out to the street\")"
      ],
      "execution_count": null,
      "outputs": []
    },
    {
      "cell_type": "code",
      "metadata": {
        "id": "PSCEptEMXwqE"
      },
      "source": [
        ""
      ],
      "execution_count": null,
      "outputs": []
    }
  ]
}