{
  "nbformat": 4,
  "nbformat_minor": 0,
  "metadata": {
    "colab": {
      "name": "homework_3.ipynb",
      "private_outputs": true,
      "provenance": [],
      "collapsed_sections": [],
      "authorship_tag": "ABX9TyPMMbSXG3sVeKj4JpA1kVel",
      "include_colab_link": true
    },
    "kernelspec": {
      "name": "python3",
      "display_name": "Python 3"
    }
  },
  "cells": [
    {
      "cell_type": "markdown",
      "metadata": {
        "id": "view-in-github",
        "colab_type": "text"
      },
      "source": [
        "<a href=\"https://colab.research.google.com/github/burhanok/GlobalAIHubPythonHomework/blob/main/homework_3.ipynb\" target=\"_parent\"><img src=\"https://colab.research.google.com/assets/colab-badge.svg\" alt=\"Open In Colab\"/></a>"
      ]
    },
    {
      "cell_type": "markdown",
      "metadata": {
        "id": "4LGIRENcEg1N"
      },
      "source": [
        "# **Play Hangman Game**"
      ]
    },
    {
      "cell_type": "markdown",
      "metadata": {
        "id": "_cZbjdjKqRSs"
      },
      "source": [
        "## **Game rules**\r\n",
        "\r\n",
        "*   Enter your username.\r\n",
        "*   Write a letter(a-z).\r\n",
        "*   If you enter any characters other than (a-z), you will get a warning.\r\n",
        "*   If you guess wrong letter 10 times, the game over.\r\n",
        "*   You must lowercase on all letters.\r\n",
        "\r\n",
        "\r\n",
        "\r\n"
      ]
    },
    {
      "cell_type": "code",
      "metadata": {
        "cellView": "form",
        "id": "N4P9RH3IEwWl"
      },
      "source": [
        "#@title Hangman Game\n",
        "# import modules\n",
        "import time\n",
        "import random\n",
        "\n",
        "# take the username from the user.\n",
        "user_name = input(\"Please enter user name : \")\n",
        "time.sleep(1) # wait 1 second\n",
        "print(f\"Wellcome {user_name} to the game\")\n",
        "time.sleep(1) # wait 1 second\n",
        "print(\"*******************************\")\n",
        "\n",
        "# define a function to print the guesses, on the screen.\n",
        "def convert(word,guess):\n",
        "    for i in range(len(word)):\n",
        "        if word[i] == guess:\n",
        "            word_list[i] = guess\n",
        "        else:\n",
        "            pass\n",
        "    return \" \".join(word_list)\n",
        "\n",
        "# create a list to store your words.\n",
        "words_list = [\"python\",\"programming\",\"artificial\",\"machine\",\"reinforcement\",\"intelligence\"]\n",
        "\n",
        "# define ten rights\n",
        "count = 10 \n",
        "\n",
        "# get random index number between range 0-length.\n",
        "word = words_list[random.randint(0,len(words_list)-1)] \n",
        "\n",
        "# define a list that consists of \"_\" characters.\n",
        "word_list = [\"_\",]*len(word)\n",
        "\n",
        "\n",
        "while True:\n",
        "    if word == \"\".join(word_list):\n",
        "        print(\"You Won The Game!!!\")\n",
        "        break\n",
        "    guess = input(\"Please enter letter : \")\n",
        "    if len(guess) != 1:\n",
        "        print(\"Your letter invalid!!!\")\n",
        "        print(\"*******************************\")\n",
        "    else:\n",
        "        if guess in word:\n",
        "            print(convert(word,guess)) \n",
        "            print(\"*******************************\")\n",
        "\n",
        "        else:\n",
        "            if count == 0:\n",
        "                print(\"Game Over!!!\")\n",
        "                print(\"You Lost!!!\")\n",
        "                break\n",
        "            else:\n",
        "                count -= 1\n",
        "                print(\"Your guess not in the word!!\")\n",
        "                print(f\"You have {count} rights left\")\n",
        "                print(\"*******************************\")"
      ],
      "execution_count": null,
      "outputs": []
    }
  ]
}