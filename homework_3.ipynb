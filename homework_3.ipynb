{
  "nbformat": 4,
  "nbformat_minor": 0,
  "metadata": {
    "colab": {
      "name": "homework_3.ipynb",
      "private_outputs": true,
      "provenance": [],
      "collapsed_sections": [],
      "authorship_tag": "ABX9TyMO7zgsWYWnvNDgy0FZZYN8",
      "include_colab_link": true
    },
    "kernelspec": {
      "name": "python3",
      "display_name": "Python 3"
    }
  },
  "cells": [
    {
      "cell_type": "markdown",
      "metadata": {
        "id": "view-in-github",
        "colab_type": "text"
      },
      "source": [
        "<a href=\"https://colab.research.google.com/github/burhanok/GlobalAIHubPythonHomework/blob/main/homework_3.ipynb\" target=\"_parent\"><img src=\"https://colab.research.google.com/assets/colab-badge.svg\" alt=\"Open In Colab\"/></a>"
      ]
    },
    {
      "cell_type": "markdown",
      "metadata": {
        "id": "4LGIRENcEg1N"
      },
      "source": [
        "# **Play Hangman Game**"
      ]
    },
    {
      "cell_type": "markdown",
      "metadata": {
        "id": "_cZbjdjKqRSs"
      },
      "source": [
        "## **Game rules**\r\n",
        "\r\n",
        "*   Enter your username.\r\n",
        "*   Write a letter(a-z).\r\n",
        "*   If you enter any characters other than (a-z), you will get a warning.\r\n",
        "*   If you guess wrong letter 10 times, the game over.\r\n",
        "*   You must capitalize on all letters.\r\n",
        "\r\n",
        "\r\n",
        "\r\n"
      ]
    },
    {
      "cell_type": "code",
      "metadata": {
        "id": "N4P9RH3IEwWl"
      },
      "source": [
        "# import modules\r\n",
        "import time\r\n",
        "import random\r\n",
        "\r\n",
        "# take the username from the user.\r\n",
        "user_name = input(\"Please enter user name : \")\r\n",
        "time.sleep(1) # wait 1 second\r\n",
        "print(f\"Wellcome {user_name} to the play\")\r\n",
        "time.sleep(1) # wait 1 second\r\n",
        "\r\n",
        "# define a function to print the guesses, on the screen.\r\n",
        "def convert(word,guess):\r\n",
        "    for i in range(len(word)):\r\n",
        "        if word[i] == guess:\r\n",
        "            word_list[i] = guess\r\n",
        "        else:\r\n",
        "            pass\r\n",
        "    return \" \".join(word_list)\r\n",
        "\r\n",
        "# create a list to store your words.\r\n",
        "words_list = [\"python\",\"programming\",\"artificial\",\"machine\",\"reinforcement\",\"intelligence\"]\r\n",
        "\r\n",
        "# define ten rights\r\n",
        "count = 10 \r\n",
        "\r\n",
        "# get random index number between range 0-length.\r\n",
        "word = words_list[random.randint(0,len(words_list)-1)] \r\n",
        "\r\n",
        "# define a list that consists of \"_\" characters.\r\n",
        "word_list = [\"_\",]*len(word)\r\n",
        "\r\n",
        "\r\n",
        "while True:\r\n",
        "    if word == \"\".join(word_list):\r\n",
        "        print(\"Winner!!!\")\r\n",
        "        break\r\n",
        "    guess = input(\"Please enter letter : \")\r\n",
        "    if len(guess) != 1:\r\n",
        "        print(\"Your letter invalid!!!\")\r\n",
        "        print(\"*******************************\")\r\n",
        "    else:\r\n",
        "        if guess in word:\r\n",
        "            print(convert(word,guess)) \r\n",
        "            print(\"*******************************\")\r\n",
        "\r\n",
        "        else:\r\n",
        "            if count == 0:\r\n",
        "                print(\"Game Over!!!\")\r\n",
        "                break\r\n",
        "            else:\r\n",
        "                count -= 1\r\n",
        "                print(\"Your guess not in the word!!\")\r\n",
        "                print(f\"You have {10-count} rights left\")\r\n",
        "                print(\"*******************************\")"
      ],
      "execution_count": null,
      "outputs": []
    },
    {
      "cell_type": "code",
      "metadata": {
        "id": "0uTcaiXwgxbU"
      },
      "source": [
        "word = \"merhaba\"\r\n",
        "word_list = [\"_\",]*len(word)"
      ],
      "execution_count": null,
      "outputs": []
    },
    {
      "cell_type": "code",
      "metadata": {
        "id": "MHNsJhR7KFam"
      },
      "source": [
        ""
      ],
      "execution_count": null,
      "outputs": []
    },
    {
      "cell_type": "code",
      "metadata": {
        "id": "v_zc_VVYLrxi"
      },
      "source": [
        "convert(\"merhaba\",\"b\")"
      ],
      "execution_count": null,
      "outputs": []
    },
    {
      "cell_type": "code",
      "metadata": {
        "id": "wAI7fZHZhI7T"
      },
      "source": [
        "word_list"
      ],
      "execution_count": null,
      "outputs": []
    },
    {
      "cell_type": "code",
      "metadata": {
        "id": "V1Nla92MKqy8"
      },
      "source": [
        "dene = [\"a\",\"b\",\"c\"]\r\n",
        "deneme = \"\".join(dene)\r\n",
        "deneme"
      ],
      "execution_count": null,
      "outputs": []
    },
    {
      "cell_type": "code",
      "metadata": {
        "id": "LJdYiopqfyh3"
      },
      "source": [
        "a = [\"b\",]*6\r\n",
        "a"
      ],
      "execution_count": null,
      "outputs": []
    },
    {
      "cell_type": "code",
      "metadata": {
        "id": "y6L_irxhf84v"
      },
      "source": [
        "a[0] = \"c\"\r\n",
        "a"
      ],
      "execution_count": null,
      "outputs": []
    },
    {
      "cell_type": "code",
      "metadata": {
        "id": "q5kmnbX2ikGR"
      },
      "source": [
        "a = [\"a\",\"b\",\"_\"]"
      ],
      "execution_count": null,
      "outputs": []
    },
    {
      "cell_type": "code",
      "metadata": {
        "id": "dlkVGT-wisZX"
      },
      "source": [
        "if \"\".join(a) == \"abc\":\r\n",
        "    print(\"True\")"
      ],
      "execution_count": null,
      "outputs": []
    },
    {
      "cell_type": "code",
      "metadata": {
        "id": "-iW7AKSFjGKv"
      },
      "source": [
        "[\",\".join(\"abc\")]"
      ],
      "execution_count": null,
      "outputs": []
    }
  ]
}